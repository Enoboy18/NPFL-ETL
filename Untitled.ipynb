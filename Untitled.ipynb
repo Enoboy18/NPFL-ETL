{
 "cells": [
  {
   "cell_type": "code",
   "execution_count": null,
   "id": "819131f1",
   "metadata": {},
   "outputs": [],
   "source": [
    "<table cellpadding=\"3\" cellspacing=\"0\" border=\"1\" style=\"margin:auto; background:#f7f8ff; font-size:95%; border:gray solid 1px; border-collapse:collapse;\">scroll"
   ]
  }
 ],
 "metadata": {
  "kernelspec": {
   "display_name": "Python 3 (ipykernel)",
   "language": "python",
   "name": "python3"
  },
  "language_info": {
   "codemirror_mode": {
    "name": "ipython",
    "version": 3
   },
   "file_extension": ".py",
   "mimetype": "text/x-python",
   "name": "python",
   "nbconvert_exporter": "python",
   "pygments_lexer": "ipython3",
   "version": "3.11.4"
  }
 },
 "nbformat": 4,
 "nbformat_minor": 5
}
